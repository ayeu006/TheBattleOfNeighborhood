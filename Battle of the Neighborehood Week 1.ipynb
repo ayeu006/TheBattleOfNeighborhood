{
 "cells": [
  {
   "cell_type": "markdown",
   "metadata": {},
   "source": [
    "# The Battle of the Neighborhood - Week 1"
   ]
  },
  {
   "cell_type": "markdown",
   "metadata": {},
   "source": [
    "![Image of Tokyo](https://encrypted-tbn0.gstatic.com/images?q=tbn%3AANd9GcS6_LVfm3NkecrfiBNHu4fh57ef3XajQFtx1FSPyJ_naqiwDWwu)"
   ]
  },
  {
   "cell_type": "markdown",
   "metadata": {},
   "source": [
    "## Problem & Background:\n",
    "\n",
    "### Background Information\n",
    "\n",
    "An international fashion chain, XYZ Limited has decided to open their first store in Asia and is considering Tokyo as a potential candidate.\n",
    "\n",
    "Being the capital of Japan with a local population of 13.9 million people and an annual 31.2 million foreign tourist in 2019 the city of Tokyo has a very large potential customer base, on top of this, the 2020 Olympics will also be held in Tokyo with a further expectation of an additional 10 million tourists and $283 billion boost to the Japanese Economy. XYZ Limited want to establish the store as soon as possible to capture this opportunity.\n",
    "\n",
    "### Problem at hand\n",
    "\n",
    "To investigate which area within the wards of Tokyo would be ideal to open a fashion retail store according to the criteria of XYZ Limited\n",
    "#### Critera\n",
    "1. The store should be located in a established leisure suburb where there is a number of existing clothing stores, cafe and resturants.\n",
    "2. The store should consider the potential tourist as well as population in the area\n",
    "3. Rent price should also be considered"
   ]
  },
  {
   "cell_type": "markdown",
   "metadata": {},
   "source": [
    "### Data:\n",
    "\n",
    "For this problem we will need to look at multiple source to obtain the data to solve this problem:\n",
    "\n",
    "1. Wards of Tokyo:  \n",
    "The link is a wikipedia webpage with information on wards/suburbs in Tokyo, it also provides the local population as of 2016 per each ward.  \n",
    "Useage: We will be scaping this table to obtain a list of suburbs and passing it into a dataframe as basis for analysis. Some columns will not be neccessary and be dropped. We will also use the list of wards as input into Fourssqaure API.  \n",
    "Link:https://en.wikipedia.org/wiki/Special_wards_of_Tokyo\n",
    "2. Airbnb Data for Tokyo:  \n",
    "This is a public dataset from kaggle which contains a listing of Airbnb locations with information on which suburbs the listing is in.  \n",
    "Useage: We can import this CSV as a seperate dataframe to investigate the amount of potential tourist per suburb  \n",
    "Link:https://www.kaggle.com/fuyutaro/tokyo-airbnb-open-data\n",
    "3. Average Rent of Tokyo:  \n",
    "This is an image of rental price per ward in Tokyo, this will have to be data entried into a dataframe.  \n",
    "Useage: In case two wards are similar in composition, the deciding factor will be rental price.\n",
    "Link:https://resources.realestate.co.jp/buy/what-is-the-average-rent-in-tokyo/"
   ]
  },
  {
   "cell_type": "code",
   "execution_count": null,
   "metadata": {},
   "outputs": [],
   "source": []
  }
 ],
 "metadata": {
  "kernelspec": {
   "display_name": "Python 3",
   "language": "python",
   "name": "python3"
  },
  "language_info": {
   "codemirror_mode": {
    "name": "ipython",
    "version": 3
   },
   "file_extension": ".py",
   "mimetype": "text/x-python",
   "name": "python",
   "nbconvert_exporter": "python",
   "pygments_lexer": "ipython3",
   "version": "3.7.1"
  }
 },
 "nbformat": 4,
 "nbformat_minor": 2
}
